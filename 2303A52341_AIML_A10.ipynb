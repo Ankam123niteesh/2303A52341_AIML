{
  "nbformat": 4,
  "nbformat_minor": 0,
  "metadata": {
    "colab": {
      "provenance": [],
      "authorship_tag": "ABX9TyPDmhAQbOKyzjpF7F08KTFO",
      "include_colab_link": true
    },
    "kernelspec": {
      "name": "python3",
      "display_name": "Python 3"
    },
    "language_info": {
      "name": "python"
    }
  },
  "cells": [
    {
      "cell_type": "markdown",
      "metadata": {
        "id": "view-in-github",
        "colab_type": "text"
      },
      "source": [
        "<a href=\"https://colab.research.google.com/github/Ankam123niteesh/2303A52341_AIML/blob/main/2303A52341_AIML_A10.ipynb\" target=\"_parent\"><img src=\"https://colab.research.google.com/assets/colab-badge.svg\" alt=\"Open In Colab\"/></a>"
      ]
    },
    {
      "cell_type": "code",
      "execution_count": null,
      "metadata": {
        "colab": {
          "base_uri": "https://localhost:8080/"
        },
        "id": "VOBl7Gnb5JPa",
        "outputId": "e3e43110-c93c-4c7a-8888-801509bf76b5"
      },
      "outputs": [
        {
          "output_type": "stream",
          "name": "stdout",
          "text": [
            "Requirement already satisfied: ucimlrepo in /usr/local/lib/python3.10/dist-packages (0.0.7)\n",
            "Requirement already satisfied: pandas>=1.0.0 in /usr/local/lib/python3.10/dist-packages (from ucimlrepo) (2.2.2)\n",
            "Requirement already satisfied: certifi>=2020.12.5 in /usr/local/lib/python3.10/dist-packages (from ucimlrepo) (2024.8.30)\n",
            "Requirement already satisfied: numpy>=1.22.4 in /usr/local/lib/python3.10/dist-packages (from pandas>=1.0.0->ucimlrepo) (1.26.4)\n",
            "Requirement already satisfied: python-dateutil>=2.8.2 in /usr/local/lib/python3.10/dist-packages (from pandas>=1.0.0->ucimlrepo) (2.8.2)\n",
            "Requirement already satisfied: pytz>=2020.1 in /usr/local/lib/python3.10/dist-packages (from pandas>=1.0.0->ucimlrepo) (2024.2)\n",
            "Requirement already satisfied: tzdata>=2022.7 in /usr/local/lib/python3.10/dist-packages (from pandas>=1.0.0->ucimlrepo) (2024.2)\n",
            "Requirement already satisfied: six>=1.5 in /usr/local/lib/python3.10/dist-packages (from python-dateutil>=2.8.2->pandas>=1.0.0->ucimlrepo) (1.16.0)\n"
          ]
        }
      ],
      "source": [
        "!pip install ucimlrepo"
      ]
    },
    {
      "cell_type": "code",
      "source": [
        "from ucimlrepo import fetch_ucirepo"
      ],
      "metadata": {
        "id": "adQfxQOE5V_t"
      },
      "execution_count": null,
      "outputs": []
    },
    {
      "cell_type": "code",
      "source": [
        "power_com = fetch_ucirepo(id=235)"
      ],
      "metadata": {
        "colab": {
          "base_uri": "https://localhost:8080/"
        },
        "id": "UthpnQhK5eHR",
        "outputId": "29adad30-a198-4c64-c6e0-44ab80810c71"
      },
      "execution_count": null,
      "outputs": [
        {
          "output_type": "stream",
          "name": "stderr",
          "text": [
            "/usr/local/lib/python3.10/dist-packages/ucimlrepo/fetch.py:97: DtypeWarning: Columns (2,3,4,5,6,7) have mixed types. Specify dtype option on import or set low_memory=False.\n",
            "  df = pd.read_csv(data_url)\n"
          ]
        }
      ]
    },
    {
      "cell_type": "code",
      "source": [
        "X = power_com.data.features\n",
        "y = power_com.data.targets"
      ],
      "metadata": {
        "id": "nYR7wLo65tWS"
      },
      "execution_count": null,
      "outputs": []
    },
    {
      "cell_type": "code",
      "source": [
        "import pandas as pd\n",
        "import matplotlib.pyplot as plt\n",
        "import seaborn as sns\n",
        "%matplotlib inline"
      ],
      "metadata": {
        "id": "tKxkZ5om5uh1"
      },
      "execution_count": null,
      "outputs": []
    },
    {
      "cell_type": "code",
      "source": [
        "print(f\"Top 5 Elecricity Consumption features:\\n{power_com.data.features.sort_values(by='Date', ascending=False).head()}\")"
      ],
      "metadata": {
        "colab": {
          "base_uri": "https://localhost:8080/"
        },
        "id": "Lr3lVFAd5uea",
        "outputId": "347e11f0-45b7-44bc-b235-b632231a3858"
      },
      "execution_count": null,
      "outputs": [
        {
          "output_type": "stream",
          "name": "stdout",
          "text": [
            "Top 5 Elecricity Consumption features:\n",
            "             Date      Time Global_active_power Global_reactive_power  \\\n",
            "1961817  9/9/2010  02:21:00               0.238                 0.052   \n",
            "1962837  9/9/2010  19:21:00               0.390                 0.132   \n",
            "1962857  9/9/2010  19:41:00               2.938                 0.436   \n",
            "1962856  9/9/2010  19:40:00               2.898                 0.416   \n",
            "1962855  9/9/2010  19:39:00               2.886                 0.398   \n",
            "\n",
            "         Voltage Global_intensity Sub_metering_1 Sub_metering_2  \\\n",
            "1961817  239.790            1.000          0.000          1.000   \n",
            "1962837  243.580            1.600          0.000          0.000   \n",
            "1962857  241.510           12.200          0.000         38.000   \n",
            "1962856  241.090           12.000          0.000         38.000   \n",
            "1962855  241.070           12.000          0.000         38.000   \n",
            "\n",
            "         Sub_metering_3  \n",
            "1961817             1.0  \n",
            "1962837             1.0  \n",
            "1962857             1.0  \n",
            "1962856             1.0  \n",
            "1962855             0.0  \n"
          ]
        }
      ]
    },
    {
      "cell_type": "code",
      "source": [
        "print(f\"Top 5 Voltage Consumption features:\\n{power_com.data.features.sort_values(by='Date', ascending=True).tail()}\")"
      ],
      "metadata": {
        "id": "oARsHa1P5uak"
      },
      "execution_count": null,
      "outputs": []
    },
    {
      "cell_type": "code",
      "source": [
        "power_com_df = pd.DataFrame(power_com.data.features)\n",
        "power_com_df.hist(bins=50, figsize=(20,15))\n",
        "plt.show()"
      ],
      "metadata": {
        "id": "wN2WzAse5uXt"
      },
      "execution_count": null,
      "outputs": []
    },
    {
      "cell_type": "code",
      "source": [
        "power_com_df.columns"
      ],
      "metadata": {
        "id": "xj0Sc5c85uU4"
      },
      "execution_count": null,
      "outputs": []
    },
    {
      "cell_type": "code",
      "source": [
        "print(f\"Max and Min Voltage Comsumption\\n{np.max(power_com_df.Voltage.value_counts())}\\n{np.min(power_com_df.Voltage.value_counts())}\")"
      ],
      "metadata": {
        "id": "ZfeTO37M5uSB"
      },
      "execution_count": null,
      "outputs": []
    },
    {
      "cell_type": "code",
      "source": [
        "import sklearn\n",
        "from sklearn.model_selection import train_test_split\n",
        "\n",
        "X = power_com_df.drop(['Date','Time'], axis=1)\n",
        "y = power_com_df.Voltage\n",
        "\n",
        "X_train, X_test, y_train, y_test = train_test_split(X, y, test_size=0.3, random_state=101)\n"
      ],
      "metadata": {
        "id": "4Y6yLJl96AiJ"
      },
      "execution_count": null,
      "outputs": []
    },
    {
      "cell_type": "code",
      "source": [
        "X_train.shape, X_test.shape, y_train.shape, y_test.shape\n",
        "X_train.head()"
      ],
      "metadata": {
        "id": "JU8x8vfH6Aek"
      },
      "execution_count": null,
      "outputs": []
    },
    {
      "cell_type": "code",
      "source": [
        "from sklearn.cluster import KMeans\n",
        "kmeans = KMeans(n_clusters=3)\n",
        "kmeans.fit(float(X_train))"
      ],
      "metadata": {
        "id": "TQHE8idh6Ab9"
      },
      "execution_count": null,
      "outputs": []
    },
    {
      "cell_type": "code",
      "source": [],
      "metadata": {
        "id": "CPOOwX1Y6AZH"
      },
      "execution_count": null,
      "outputs": []
    },
    {
      "cell_type": "code",
      "source": [],
      "metadata": {
        "id": "d0jjpbhe6AWT"
      },
      "execution_count": null,
      "outputs": []
    }
  ]
}